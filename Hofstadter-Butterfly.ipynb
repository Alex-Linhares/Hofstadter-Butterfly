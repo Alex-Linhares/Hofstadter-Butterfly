{
 "cells": [
  {
   "cell_type": "code",
   "execution_count": 2,
   "metadata": {},
   "outputs": [
    {
     "data": {
      "image/png": "[encoded data removed]",
      "text/plain": [
       "<Figure size 432x288 with 1 Axes>"
      ]
     },
     "metadata": {
      "needs_background": "light"
     },
     "output_type": "display_data"
    }
   ],
   "source": [
    "import matplotlib.pyplot as plt\n",
    "import numpy as np\n",
    "from math import gcd\n",
    "import scipy.linalg as lin\n",
    "\n",
    "###############################################################################\n",
    "# Needed functions\n",
    "\n",
    "\n",
    "def V(m):\n",
    "    ''' Function for getting the value of V '''\n",
    "    v = 2*np.cos(2*np.pi*m*p/q)\n",
    "    return v\n",
    "###############################################################################\n",
    "\n",
    "###############################################################################\n",
    "# Odd part\n",
    "qmax = 400\n",
    "\n",
    "sigma = []\n",
    "energy = []\n",
    "\n",
    "for q in range(4, qmax + 1, 2):\n",
    "\n",
    "    for p in range(1, q, 2):\n",
    "\n",
    "        if gcd(p, q) <= 1:\n",
    "\n",
    "            diag = []\n",
    "            offdiag = np.ones(int(q/2 - 2))\n",
    "\n",
    "            for m in range(1, int(q/2)):\n",
    "                diag.append(V(m))\n",
    "\n",
    "            a = np.diagflat(diag)\n",
    "            np.fill_diagonal(a[1:], offdiag)\n",
    "            np.fill_diagonal(a[:, 1:], offdiag)\n",
    "            \n",
    "            solve = lin.eig(a)\n",
    "            solve = solve[0]\n",
    "            solve = np.real(solve)\n",
    "            \n",
    "            s = np.array(np.ones(len(solve)))\n",
    "            s = (p/q)*s\n",
    "            \n",
    "            sigma.append(s)\n",
    "            energy.append(solve)\n",
    "\n",
    "for i in range(len(sigma)):\n",
    "    plt.plot(sigma[i], energy[i], ',', color='tab:blue')\n",
    "\n",
    "plt.xlabel(r'$\\sigma$')\n",
    "plt.ylabel('energy')\n",
    "plt.xlim(0, 1)\n",
    "plt.ylim(-4, 4)\n",
    "plt.show()\n",
    "###############################################################################"
   ]
  },
  {
   "cell_type": "code",
   "execution_count": null,
   "metadata": {},
   "outputs": [],
   "source": []
  }
 ],
 "metadata": {
  "kernelspec": {
   "display_name": "Python 3",
   "language": "python",
   "name": "python3"
  },
  "language_info": {
   "codemirror_mode": {
    "name": "ipython",
    "version": 3
   },
   "file_extension": ".py",
   "mimetype": "text/x-python",
   "name": "python",
   "nbconvert_exporter": "python",
   "pygments_lexer": "ipython3",
   "version": "3.7.3"
  }
 },
 "nbformat": 4,
 "nbformat_minor": 2
}
